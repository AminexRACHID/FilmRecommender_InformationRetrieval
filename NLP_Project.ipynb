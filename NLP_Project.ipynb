{
 "cells": [
  {
   "cell_type": "code",
   "execution_count": null,
   "metadata": {
    "colab": {
     "base_uri": "https://localhost:8080/"
    },
    "id": "R1cqiaMC7wvU",
    "outputId": "841e4bb2-397d-4cd7-fef0-16b2cb6eb7a2"
   },
   "outputs": [
    {
     "name": "stderr",
     "output_type": "stream",
     "text": [
      "[nltk_data] Downloading package punkt to /root/nltk_data...\n",
      "[nltk_data]   Unzipping tokenizers/punkt.zip.\n",
      "[nltk_data] Downloading package averaged_perceptron_tagger to\n",
      "[nltk_data]     /root/nltk_data...\n",
      "[nltk_data]   Unzipping taggers/averaged_perceptron_tagger.zip.\n",
      "[nltk_data] Downloading package wordnet to /root/nltk_data...\n",
      "[nltk_data] Downloading package stopwords to /root/nltk_data...\n",
      "[nltk_data]   Unzipping corpora/stopwords.zip.\n"
     ]
    },
    {
     "data": {
      "text/plain": [
       "True"
      ]
     },
     "execution_count": 14,
     "metadata": {},
     "output_type": "execute_result"
    }
   ],
   "source": [
    "import pandas as pd\n",
    "from google.colab import drive\n",
    "import numpy as np\n",
    "import nltk\n",
    "from sklearn.feature_extraction.text import TfidfVectorizer\n",
    "from nltk.stem import WordNetLemmatizer\n",
    "from nltk.corpus import stopwords\n",
    "import string\n",
    "nltk.download('punkt')\n",
    "nltk.download('averaged_perceptron_tagger')\n",
    "nltk.download('wordnet')\n",
    "nltk.download('stopwords')"
   ]
  },
  {
   "cell_type": "code",
   "execution_count": null,
   "metadata": {
    "colab": {
     "base_uri": "https://localhost:8080/"
    },
    "id": "ofyo5X9wlFzo",
    "outputId": "46814530-3b7d-4c1b-9a6b-393d22b93520"
   },
   "outputs": [
    {
     "name": "stdout",
     "output_type": "stream",
     "text": [
      "Mounted at /content/drive\n"
     ]
    }
   ],
   "source": [
    "drive.mount(\"/content/drive\")"
   ]
  },
  {
   "cell_type": "code",
   "execution_count": null,
   "metadata": {
    "colab": {
     "base_uri": "https://localhost:8080/",
     "height": 354
    },
    "id": "IfYMpTczlNIg",
    "outputId": "bd6e350d-e7cf-4175-b2e0-1478f19adcdf"
   },
   "outputs": [
    {
     "data": {
      "text/html": [
       "\n",
       "  <div id=\"df-7ed3ef5d-0114-4c50-83de-89a122de5bfc\">\n",
       "    <div class=\"colab-df-container\">\n",
       "      <div>\n",
       "<style scoped>\n",
       "    .dataframe tbody tr th:only-of-type {\n",
       "        vertical-align: middle;\n",
       "    }\n",
       "\n",
       "    .dataframe tbody tr th {\n",
       "        vertical-align: top;\n",
       "    }\n",
       "\n",
       "    .dataframe thead th {\n",
       "        text-align: right;\n",
       "    }\n",
       "</style>\n",
       "<table border=\"1\" class=\"dataframe\">\n",
       "  <thead>\n",
       "    <tr style=\"text-align: right;\">\n",
       "      <th></th>\n",
       "      <th>Release Year</th>\n",
       "      <th>Title</th>\n",
       "      <th>Origin/Ethnicity</th>\n",
       "      <th>Director</th>\n",
       "      <th>Cast</th>\n",
       "      <th>Genre</th>\n",
       "      <th>Wiki Page</th>\n",
       "      <th>Plot</th>\n",
       "    </tr>\n",
       "  </thead>\n",
       "  <tbody>\n",
       "    <tr>\n",
       "      <th>0</th>\n",
       "      <td>1901</td>\n",
       "      <td>Kansas Saloon Smashers</td>\n",
       "      <td>American</td>\n",
       "      <td>Unknown</td>\n",
       "      <td>NaN</td>\n",
       "      <td>unknown</td>\n",
       "      <td>https://en.wikipedia.org/wiki/Kansas_Saloon_Sm...</td>\n",
       "      <td>A bartender is working at a saloon, serving dr...</td>\n",
       "    </tr>\n",
       "    <tr>\n",
       "      <th>1</th>\n",
       "      <td>1901</td>\n",
       "      <td>Love by the Light of the Moon</td>\n",
       "      <td>American</td>\n",
       "      <td>Unknown</td>\n",
       "      <td>NaN</td>\n",
       "      <td>unknown</td>\n",
       "      <td>https://en.wikipedia.org/wiki/Love_by_the_Ligh...</td>\n",
       "      <td>The moon, painted with a smiling face hangs ov...</td>\n",
       "    </tr>\n",
       "    <tr>\n",
       "      <th>2</th>\n",
       "      <td>1901</td>\n",
       "      <td>The Martyred Presidents</td>\n",
       "      <td>American</td>\n",
       "      <td>Unknown</td>\n",
       "      <td>NaN</td>\n",
       "      <td>unknown</td>\n",
       "      <td>https://en.wikipedia.org/wiki/The_Martyred_Pre...</td>\n",
       "      <td>The film, just over a minute long, is composed...</td>\n",
       "    </tr>\n",
       "    <tr>\n",
       "      <th>3</th>\n",
       "      <td>1901</td>\n",
       "      <td>Terrible Teddy, the Grizzly King</td>\n",
       "      <td>American</td>\n",
       "      <td>Unknown</td>\n",
       "      <td>NaN</td>\n",
       "      <td>unknown</td>\n",
       "      <td>https://en.wikipedia.org/wiki/Terrible_Teddy,_...</td>\n",
       "      <td>Lasting just 61 seconds and consisting of two ...</td>\n",
       "    </tr>\n",
       "    <tr>\n",
       "      <th>4</th>\n",
       "      <td>1902</td>\n",
       "      <td>Jack and the Beanstalk</td>\n",
       "      <td>American</td>\n",
       "      <td>George S. Fleming, Edwin S. Porter</td>\n",
       "      <td>NaN</td>\n",
       "      <td>unknown</td>\n",
       "      <td>https://en.wikipedia.org/wiki/Jack_and_the_Bea...</td>\n",
       "      <td>The earliest known adaptation of the classic f...</td>\n",
       "    </tr>\n",
       "  </tbody>\n",
       "</table>\n",
       "</div>\n",
       "      <button class=\"colab-df-convert\" onclick=\"convertToInteractive('df-7ed3ef5d-0114-4c50-83de-89a122de5bfc')\"\n",
       "              title=\"Convert this dataframe to an interactive table.\"\n",
       "              style=\"display:none;\">\n",
       "        \n",
       "  <svg xmlns=\"http://www.w3.org/2000/svg\" height=\"24px\"viewBox=\"0 0 24 24\"\n",
       "       width=\"24px\">\n",
       "    <path d=\"M0 0h24v24H0V0z\" fill=\"none\"/>\n",
       "    <path d=\"M18.56 5.44l.94 2.06.94-2.06 2.06-.94-2.06-.94-.94-2.06-.94 2.06-2.06.94zm-11 1L8.5 8.5l.94-2.06 2.06-.94-2.06-.94L8.5 2.5l-.94 2.06-2.06.94zm10 10l.94 2.06.94-2.06 2.06-.94-2.06-.94-.94-2.06-.94 2.06-2.06.94z\"/><path d=\"M17.41 7.96l-1.37-1.37c-.4-.4-.92-.59-1.43-.59-.52 0-1.04.2-1.43.59L10.3 9.45l-7.72 7.72c-.78.78-.78 2.05 0 2.83L4 21.41c.39.39.9.59 1.41.59.51 0 1.02-.2 1.41-.59l7.78-7.78 2.81-2.81c.8-.78.8-2.07 0-2.86zM5.41 20L4 18.59l7.72-7.72 1.47 1.35L5.41 20z\"/>\n",
       "  </svg>\n",
       "      </button>\n",
       "      \n",
       "  <style>\n",
       "    .colab-df-container {\n",
       "      display:flex;\n",
       "      flex-wrap:wrap;\n",
       "      gap: 12px;\n",
       "    }\n",
       "\n",
       "    .colab-df-convert {\n",
       "      background-color: #E8F0FE;\n",
       "      border: none;\n",
       "      border-radius: 50%;\n",
       "      cursor: pointer;\n",
       "      display: none;\n",
       "      fill: #1967D2;\n",
       "      height: 32px;\n",
       "      padding: 0 0 0 0;\n",
       "      width: 32px;\n",
       "    }\n",
       "\n",
       "    .colab-df-convert:hover {\n",
       "      background-color: #E2EBFA;\n",
       "      box-shadow: 0px 1px 2px rgba(60, 64, 67, 0.3), 0px 1px 3px 1px rgba(60, 64, 67, 0.15);\n",
       "      fill: #174EA6;\n",
       "    }\n",
       "\n",
       "    [theme=dark] .colab-df-convert {\n",
       "      background-color: #3B4455;\n",
       "      fill: #D2E3FC;\n",
       "    }\n",
       "\n",
       "    [theme=dark] .colab-df-convert:hover {\n",
       "      background-color: #434B5C;\n",
       "      box-shadow: 0px 1px 3px 1px rgba(0, 0, 0, 0.15);\n",
       "      filter: drop-shadow(0px 1px 2px rgba(0, 0, 0, 0.3));\n",
       "      fill: #FFFFFF;\n",
       "    }\n",
       "  </style>\n",
       "\n",
       "      <script>\n",
       "        const buttonEl =\n",
       "          document.querySelector('#df-7ed3ef5d-0114-4c50-83de-89a122de5bfc button.colab-df-convert');\n",
       "        buttonEl.style.display =\n",
       "          google.colab.kernel.accessAllowed ? 'block' : 'none';\n",
       "\n",
       "        async function convertToInteractive(key) {\n",
       "          const element = document.querySelector('#df-7ed3ef5d-0114-4c50-83de-89a122de5bfc');\n",
       "          const dataTable =\n",
       "            await google.colab.kernel.invokeFunction('convertToInteractive',\n",
       "                                                     [key], {});\n",
       "          if (!dataTable) return;\n",
       "\n",
       "          const docLinkHtml = 'Like what you see? Visit the ' +\n",
       "            '<a target=\"_blank\" href=https://colab.research.google.com/notebooks/data_table.ipynb>data table notebook</a>'\n",
       "            + ' to learn more about interactive tables.';\n",
       "          element.innerHTML = '';\n",
       "          dataTable['output_type'] = 'display_data';\n",
       "          await google.colab.output.renderOutput(dataTable, element);\n",
       "          const docLink = document.createElement('div');\n",
       "          docLink.innerHTML = docLinkHtml;\n",
       "          element.appendChild(docLink);\n",
       "        }\n",
       "      </script>\n",
       "    </div>\n",
       "  </div>\n",
       "  "
      ],
      "text/plain": [
       "   Release Year                             Title Origin/Ethnicity  \\\n",
       "0          1901            Kansas Saloon Smashers         American   \n",
       "1          1901     Love by the Light of the Moon         American   \n",
       "2          1901           The Martyred Presidents         American   \n",
       "3          1901  Terrible Teddy, the Grizzly King         American   \n",
       "4          1902            Jack and the Beanstalk         American   \n",
       "\n",
       "                             Director Cast    Genre  \\\n",
       "0                             Unknown  NaN  unknown   \n",
       "1                             Unknown  NaN  unknown   \n",
       "2                             Unknown  NaN  unknown   \n",
       "3                             Unknown  NaN  unknown   \n",
       "4  George S. Fleming, Edwin S. Porter  NaN  unknown   \n",
       "\n",
       "                                           Wiki Page  \\\n",
       "0  https://en.wikipedia.org/wiki/Kansas_Saloon_Sm...   \n",
       "1  https://en.wikipedia.org/wiki/Love_by_the_Ligh...   \n",
       "2  https://en.wikipedia.org/wiki/The_Martyred_Pre...   \n",
       "3  https://en.wikipedia.org/wiki/Terrible_Teddy,_...   \n",
       "4  https://en.wikipedia.org/wiki/Jack_and_the_Bea...   \n",
       "\n",
       "                                                Plot  \n",
       "0  A bartender is working at a saloon, serving dr...  \n",
       "1  The moon, painted with a smiling face hangs ov...  \n",
       "2  The film, just over a minute long, is composed...  \n",
       "3  Lasting just 61 seconds and consisting of two ...  \n",
       "4  The earliest known adaptation of the classic f...  "
      ]
     },
     "execution_count": 4,
     "metadata": {},
     "output_type": "execute_result"
    }
   ],
   "source": [
    "data = pd.read_csv(\"/content/drive/MyDrive/NLP_Project/wiki_movie_plots_deduped.csv\")\n",
    "data.head()"
   ]
  },
  {
   "cell_type": "code",
   "execution_count": null,
   "metadata": {
    "colab": {
     "base_uri": "https://localhost:8080/"
    },
    "id": "KRBcV9Lll8_L",
    "outputId": "4bceecd8-2849-417f-abbd-79667fdb292f"
   },
   "outputs": [
    {
     "data": {
      "text/plain": [
       "(34886, 8)"
      ]
     },
     "execution_count": 5,
     "metadata": {},
     "output_type": "execute_result"
    }
   ],
   "source": [
    "data.shape"
   ]
  },
  {
   "cell_type": "code",
   "execution_count": null,
   "metadata": {
    "colab": {
     "base_uri": "https://localhost:8080/",
     "height": 472
    },
    "id": "h9eyC5BwbUPr",
    "outputId": "6649e60b-cce8-4ad6-89ee-25cbf08818a7"
   },
   "outputs": [
    {
     "data": {
      "image/png": "[encoded data removed]",
      "text/plain": [
       "<Figure size 640x480 with 1 Axes>"
      ]
     },
     "metadata": {},
     "output_type": "display_data"
    }
   ],
   "source": [
    "import matplotlib.pyplot as plt\n",
    "\n",
    "counts = data['Release Year'].value_counts()\n",
    "\n",
    "sorted_counts = counts.sort_index()\n",
    "\n",
    "plt.bar(sorted_counts.index, sorted_counts.values)\n",
    "\n",
    "plt.title('Nombre de films américains sortis chaque année')\n",
    "plt.xlabel('Année de sortie')\n",
    "plt.ylabel('Nombre de films')\n",
    "\n",
    "plt.show()"
   ]
  },
  {
   "cell_type": "code",
   "execution_count": null,
   "metadata": {
    "colab": {
     "base_uri": "https://localhost:8080/",
     "height": 612
    },
    "id": "88pzylMHc2yR",
    "outputId": "2decaf37-ddb6-497b-de88-6f9d02ed6c4a"
   },
   "outputs": [
    {
     "data": {
      "text/plain": [
       "Text(-12.430555555555555, 0.5, '')"
      ]
     },
     "execution_count": 7,
     "metadata": {},
     "output_type": "execute_result"
    },
    {
     "data": {
      "text/plain": [
       "<Figure size 1000x500 with 0 Axes>"
      ]
     },
     "metadata": {},
     "output_type": "display_data"
    },
    {
     "data": {
      "image/png": "[encoded data removed]",
      "text/plain": [
       "<Figure size 1000x500 with 1 Axes>"
      ]
     },
     "metadata": {},
     "output_type": "display_data"
    }
   ],
   "source": [
    "import seaborn as sns\n",
    "plt.figure(figsize=(10,5))\n",
    "sns.catplot(x=\"Origin/Ethnicity\", kind=\"count\", data=data, height=5, aspect=2)\n",
    "plt.xticks(rotation=45, \n",
    "    horizontalalignment='right')\n",
    "plt.title(\"le nombre total de films sortis par origine au fil des ans (1900-2020)\", fontsize=15)\n",
    "plt.xlabel(\"\")\n",
    "plt.ylabel(\"\")"
   ]
  },
  {
   "cell_type": "code",
   "execution_count": null,
   "metadata": {
    "colab": {
     "base_uri": "https://localhost:8080/"
    },
    "id": "5_E3WyXWmNI5",
    "outputId": "a87099a3-4b68-4b89-cb68-ff81223be2ee"
   },
   "outputs": [
    {
     "data": {
      "text/plain": [
       "3595"
      ]
     },
     "execution_count": 9,
     "metadata": {},
     "output_type": "execute_result"
    }
   ],
   "source": [
    "data2 = data.loc[(data['Origin/Ethnicity']=='American') & (data['Release Year']>2000)]\n",
    "len(data2)"
   ]
  },
  {
   "cell_type": "code",
   "execution_count": null,
   "metadata": {
    "id": "d8fiMdeDmRUx"
   },
   "outputs": [],
   "source": [
    "my_data = pd.DataFrame(data2)"
   ]
  },
  {
   "cell_type": "code",
   "execution_count": null,
   "metadata": {
    "colab": {
     "base_uri": "https://localhost:8080/",
     "height": 1000
    },
    "id": "9R1QOQQ7me7e",
    "outputId": "1a0820e8-6a60-456d-f693-bc1f49c04b7b"
   },
   "outputs": [
    {
     "data": {
      "text/html": [
       "\n",
       "  <div id=\"df-15412375-b089-40e6-8cff-37f2d976d22c\">\n",
       "    <div class=\"colab-df-container\">\n",
       "      <div>\n",
       "<style scoped>\n",
       "    .dataframe tbody tr th:only-of-type {\n",
       "        vertical-align: middle;\n",
       "    }\n",
       "\n",
       "    .dataframe tbody tr th {\n",
       "        vertical-align: top;\n",
       "    }\n",
       "\n",
       "    .dataframe thead th {\n",
       "        text-align: right;\n",
       "    }\n",
       "</style>\n",
       "<table border=\"1\" class=\"dataframe\">\n",
       "  <thead>\n",
       "    <tr style=\"text-align: right;\">\n",
       "      <th></th>\n",
       "      <th>Plot</th>\n",
       "    </tr>\n",
       "    <tr>\n",
       "      <th>Title</th>\n",
       "      <th></th>\n",
       "    </tr>\n",
       "  </thead>\n",
       "  <tbody>\n",
       "    <tr>\n",
       "      <th>15 Minutes</th>\n",
       "      <td>Ex-convicts Emil Slovak (Karel Roden) and Oleg...</td>\n",
       "    </tr>\n",
       "    <tr>\n",
       "      <th>3000 Miles to Graceland</th>\n",
       "      <td>Outside of Las Vegas, Michael Zane, a recent p...</td>\n",
       "    </tr>\n",
       "    <tr>\n",
       "      <th>A.I. Artificial Intelligence</th>\n",
       "      <td>In the late 22nd century, rising sea levels fr...</td>\n",
       "    </tr>\n",
       "    <tr>\n",
       "      <th>The Affair of the Necklace</th>\n",
       "      <td>Jeanne de Saint-Rémy de Valois, orphaned at an...</td>\n",
       "    </tr>\n",
       "    <tr>\n",
       "      <th>Ali</th>\n",
       "      <td>The film begins with Cassius Clay, Jr. before ...</td>\n",
       "    </tr>\n",
       "    <tr>\n",
       "      <th>All Over the Guy</th>\n",
       "      <td>All Over the Guy is about Eli (Dan Bucatinsky)...</td>\n",
       "    </tr>\n",
       "    <tr>\n",
       "      <th>Along Came a Spider</th>\n",
       "      <td>After Washington, D.C. detective, forensic psy...</td>\n",
       "    </tr>\n",
       "    <tr>\n",
       "      <th>The Amati Girls</th>\n",
       "      <td>The film centers around an Italian American fa...</td>\n",
       "    </tr>\n",
       "    <tr>\n",
       "      <th>America's Sweethearts</th>\n",
       "      <td>Film publicist Lee Phillips is tasked with pro...</td>\n",
       "    </tr>\n",
       "    <tr>\n",
       "      <th>The American Astronaut</th>\n",
       "      <td>Space travel has become a dirty way of life do...</td>\n",
       "    </tr>\n",
       "    <tr>\n",
       "      <th>American Outlaws</th>\n",
       "      <td>A group of Confederate guerillas are trying to...</td>\n",
       "    </tr>\n",
       "    <tr>\n",
       "      <th>American Pie 2</th>\n",
       "      <td>After their freshman year at college, the four...</td>\n",
       "    </tr>\n",
       "    <tr>\n",
       "      <th>An American Rhapsody</th>\n",
       "      <td>In 1950, a Hungarian couple, Peter and Margit,...</td>\n",
       "    </tr>\n",
       "    <tr>\n",
       "      <th>Amy's Orgasm</th>\n",
       "      <td>Amy is a single 29 year old Jewish woman. She ...</td>\n",
       "    </tr>\n",
       "    <tr>\n",
       "      <th>Angel Eyes</th>\n",
       "      <td>On a wet rainy night in Chicago, police office...</td>\n",
       "    </tr>\n",
       "    <tr>\n",
       "      <th>The Animal</th>\n",
       "      <td>Marvin Mange (Rob Schneider) is an awkward, cl...</td>\n",
       "    </tr>\n",
       "    <tr>\n",
       "      <th>The Anniversary Party</th>\n",
       "      <td>Sally Nash and Joe Therrian are a Hollywood co...</td>\n",
       "    </tr>\n",
       "    <tr>\n",
       "      <th>Antitrust</th>\n",
       "      <td>Working with his three friends at their new so...</td>\n",
       "    </tr>\n",
       "    <tr>\n",
       "      <th>Atlantis: The Lost Empire</th>\n",
       "      <td>Many centuries ago, a large tidal wave trigger...</td>\n",
       "    </tr>\n",
       "    <tr>\n",
       "      <th>Baby Boy</th>\n",
       "      <td>A 20-year-old man named Joseph \"Jody\" Summers ...</td>\n",
       "    </tr>\n",
       "    <tr>\n",
       "      <th>Bartleby</th>\n",
       "      <td>The film opens with a brief summary of Herman ...</td>\n",
       "    </tr>\n",
       "    <tr>\n",
       "      <th>A Beautiful Mind</th>\n",
       "      <td>In 1947, John Nash (Crowe) arrives at Princeto...</td>\n",
       "    </tr>\n",
       "    <tr>\n",
       "      <th>Behind Enemy Lines</th>\n",
       "      <td>In the final stages of the Bosnian War in Dece...</td>\n",
       "    </tr>\n",
       "    <tr>\n",
       "      <th>The Believer</th>\n",
       "      <td>Daniel Balint is a former Jewish yeshiva stude...</td>\n",
       "    </tr>\n",
       "    <tr>\n",
       "      <th>Big Bad Love</th>\n",
       "      <td>Big Bad Love shares its title and characters w...</td>\n",
       "    </tr>\n",
       "    <tr>\n",
       "      <th>Black Hawk Down</th>\n",
       "      <td>In 1993, following the ousting of the central ...</td>\n",
       "    </tr>\n",
       "    <tr>\n",
       "      <th>Black Knight</th>\n",
       "      <td>Jamal Walker (Martin Lawrence) is an everyday ...</td>\n",
       "    </tr>\n",
       "    <tr>\n",
       "      <th>Blow</th>\n",
       "      <td>A young George Jung and his parents Fred and E...</td>\n",
       "    </tr>\n",
       "    <tr>\n",
       "      <th>Bones</th>\n",
       "      <td>In 1979, Jimmy Bones (Snoop Dogg) is a numbers...</td>\n",
       "    </tr>\n",
       "    <tr>\n",
       "      <th>The Brothers</th>\n",
       "      <td>Jackson Smith (Chestnut), Brian Palmer (Bellam...</td>\n",
       "    </tr>\n",
       "    <tr>\n",
       "      <th>Bubble Boy</th>\n",
       "      <td>Born without an immune system, Jimmy Livingsto...</td>\n",
       "    </tr>\n",
       "    <tr>\n",
       "      <th>Buffalo Soldiers</th>\n",
       "      <td>It is almost the end of the Cold War in Europe...</td>\n",
       "    </tr>\n",
       "    <tr>\n",
       "      <th>Bully</th>\n",
       "      <td>Ali Willis and Lisa Connelly are friends with ...</td>\n",
       "    </tr>\n",
       "    <tr>\n",
       "      <th>The Business of Strangers</th>\n",
       "      <td>Julie Styron (Channing) is a middle-aged busin...</td>\n",
       "    </tr>\n",
       "    <tr>\n",
       "      <th>Captain Corelli's Mandolin</th>\n",
       "      <td>Greece's Ionian Islands are invaded by the Ita...</td>\n",
       "    </tr>\n",
       "    <tr>\n",
       "      <th>The Cat's Meow</th>\n",
       "      <td>November 15, 1924: Among those boarding the lu...</td>\n",
       "    </tr>\n",
       "    <tr>\n",
       "      <th>Cats &amp; Dogs</th>\n",
       "      <td>Mrs. Carolyn Brody (Elizabeth Perkins) and her...</td>\n",
       "    </tr>\n",
       "    <tr>\n",
       "      <th>The Caveman's Valentine</th>\n",
       "      <td>A former family man and pianist studying at Ju...</td>\n",
       "    </tr>\n",
       "    <tr>\n",
       "      <th>The Center of the World</th>\n",
       "      <td>A couple checks into a suite in Las Vegas. In ...</td>\n",
       "    </tr>\n",
       "    <tr>\n",
       "      <th>Corky Romano</th>\n",
       "      <td>Veterinary technician Corky Romano (Chris Katt...</td>\n",
       "    </tr>\n",
       "    <tr>\n",
       "      <th>CQ</th>\n",
       "      <td>In Paris in 1969, young film editor Paul Balla...</td>\n",
       "    </tr>\n",
       "    <tr>\n",
       "      <th>Crazy/Beautiful</th>\n",
       "      <td>Nicole Oakley, the out-of-control daughter of ...</td>\n",
       "    </tr>\n",
       "    <tr>\n",
       "      <th>Crocodile Dundee in Los Angeles</th>\n",
       "      <td>At the beginning of the film, protagonist Mich...</td>\n",
       "    </tr>\n",
       "    <tr>\n",
       "      <th>Cruel Intentions 2</th>\n",
       "      <td>Troublemaker student Sebastian Valmont (Robin ...</td>\n",
       "    </tr>\n",
       "    <tr>\n",
       "      <th>The Curse of the Jade Scorpion</th>\n",
       "      <td>In 1940, C.W. Briggs (Woody Allen) is an insur...</td>\n",
       "    </tr>\n",
       "    <tr>\n",
       "      <th>The Deep End</th>\n",
       "      <td>Margaret Hall (Swinton) and her family live an...</td>\n",
       "    </tr>\n",
       "    <tr>\n",
       "      <th>Delivering Milo</th>\n",
       "      <td>Elizabeth believes she has gone into labor, bu...</td>\n",
       "    </tr>\n",
       "    <tr>\n",
       "      <th>Den</th>\n",
       "      <td>The film begins with a bearded man waking up i...</td>\n",
       "    </tr>\n",
       "    <tr>\n",
       "      <th>Domestic Disturbance</th>\n",
       "      <td>In Southport, Maryland, Susan Morrison (Teri P...</td>\n",
       "    </tr>\n",
       "    <tr>\n",
       "      <th>Don't Say a Word</th>\n",
       "      <td>In 1991, a gang of thieves steal a rare $10-mi...</td>\n",
       "    </tr>\n",
       "  </tbody>\n",
       "</table>\n",
       "</div>\n",
       "      <button class=\"colab-df-convert\" onclick=\"convertToInteractive('df-15412375-b089-40e6-8cff-37f2d976d22c')\"\n",
       "              title=\"Convert this dataframe to an interactive table.\"\n",
       "              style=\"display:none;\">\n",
       "        \n",
       "  <svg xmlns=\"http://www.w3.org/2000/svg\" height=\"24px\"viewBox=\"0 0 24 24\"\n",
       "       width=\"24px\">\n",
       "    <path d=\"M0 0h24v24H0V0z\" fill=\"none\"/>\n",
       "    <path d=\"M18.56 5.44l.94 2.06.94-2.06 2.06-.94-2.06-.94-.94-2.06-.94 2.06-2.06.94zm-11 1L8.5 8.5l.94-2.06 2.06-.94-2.06-.94L8.5 2.5l-.94 2.06-2.06.94zm10 10l.94 2.06.94-2.06 2.06-.94-2.06-.94-.94-2.06-.94 2.06-2.06.94z\"/><path d=\"M17.41 7.96l-1.37-1.37c-.4-.4-.92-.59-1.43-.59-.52 0-1.04.2-1.43.59L10.3 9.45l-7.72 7.72c-.78.78-.78 2.05 0 2.83L4 21.41c.39.39.9.59 1.41.59.51 0 1.02-.2 1.41-.59l7.78-7.78 2.81-2.81c.8-.78.8-2.07 0-2.86zM5.41 20L4 18.59l7.72-7.72 1.47 1.35L5.41 20z\"/>\n",
       "  </svg>\n",
       "      </button>\n",
       "      \n",
       "  <style>\n",
       "    .colab-df-container {\n",
       "      display:flex;\n",
       "      flex-wrap:wrap;\n",
       "      gap: 12px;\n",
       "    }\n",
       "\n",
       "    .colab-df-convert {\n",
       "      background-color: #E8F0FE;\n",
       "      border: none;\n",
       "      border-radius: 50%;\n",
       "      cursor: pointer;\n",
       "      display: none;\n",
       "      fill: #1967D2;\n",
       "      height: 32px;\n",
       "      padding: 0 0 0 0;\n",
       "      width: 32px;\n",
       "    }\n",
       "\n",
       "    .colab-df-convert:hover {\n",
       "      background-color: #E2EBFA;\n",
       "      box-shadow: 0px 1px 2px rgba(60, 64, 67, 0.3), 0px 1px 3px 1px rgba(60, 64, 67, 0.15);\n",
       "      fill: #174EA6;\n",
       "    }\n",
       "\n",
       "    [theme=dark] .colab-df-convert {\n",
       "      background-color: #3B4455;\n",
       "      fill: #D2E3FC;\n",
       "    }\n",
       "\n",
       "    [theme=dark] .colab-df-convert:hover {\n",
       "      background-color: #434B5C;\n",
       "      box-shadow: 0px 1px 3px 1px rgba(0, 0, 0, 0.15);\n",
       "      filter: drop-shadow(0px 1px 2px rgba(0, 0, 0, 0.3));\n",
       "      fill: #FFFFFF;\n",
       "    }\n",
       "  </style>\n",
       "\n",
       "      <script>\n",
       "        const buttonEl =\n",
       "          document.querySelector('#df-15412375-b089-40e6-8cff-37f2d976d22c button.colab-df-convert');\n",
       "        buttonEl.style.display =\n",
       "          google.colab.kernel.accessAllowed ? 'block' : 'none';\n",
       "\n",
       "        async function convertToInteractive(key) {\n",
       "          const element = document.querySelector('#df-15412375-b089-40e6-8cff-37f2d976d22c');\n",
       "          const dataTable =\n",
       "            await google.colab.kernel.invokeFunction('convertToInteractive',\n",
       "                                                     [key], {});\n",
       "          if (!dataTable) return;\n",
       "\n",
       "          const docLinkHtml = 'Like what you see? Visit the ' +\n",
       "            '<a target=\"_blank\" href=https://colab.research.google.com/notebooks/data_table.ipynb>data table notebook</a>'\n",
       "            + ' to learn more about interactive tables.';\n",
       "          element.innerHTML = '';\n",
       "          dataTable['output_type'] = 'display_data';\n",
       "          await google.colab.output.renderOutput(dataTable, element);\n",
       "          const docLink = document.createElement('div');\n",
       "          docLink.innerHTML = docLinkHtml;\n",
       "          element.appendChild(docLink);\n",
       "        }\n",
       "      </script>\n",
       "    </div>\n",
       "  </div>\n",
       "  "
      ],
      "text/plain": [
       "                                                                              Plot\n",
       "Title                                                                             \n",
       " 15 Minutes                      Ex-convicts Emil Slovak (Karel Roden) and Oleg...\n",
       "3000 Miles to Graceland          Outside of Las Vegas, Michael Zane, a recent p...\n",
       " A.I. Artificial Intelligence    In the late 22nd century, rising sea levels fr...\n",
       "The Affair of the Necklace       Jeanne de Saint-Rémy de Valois, orphaned at an...\n",
       "Ali                              The film begins with Cassius Clay, Jr. before ...\n",
       "All Over the Guy                 All Over the Guy is about Eli (Dan Bucatinsky)...\n",
       "Along Came a Spider              After Washington, D.C. detective, forensic psy...\n",
       "The Amati Girls                  The film centers around an Italian American fa...\n",
       "America's Sweethearts            Film publicist Lee Phillips is tasked with pro...\n",
       "The American Astronaut           Space travel has become a dirty way of life do...\n",
       "American Outlaws                 A group of Confederate guerillas are trying to...\n",
       "American Pie 2                   After their freshman year at college, the four...\n",
       "An American Rhapsody             In 1950, a Hungarian couple, Peter and Margit,...\n",
       "Amy's Orgasm                     Amy is a single 29 year old Jewish woman. She ...\n",
       "Angel Eyes                       On a wet rainy night in Chicago, police office...\n",
       "The Animal                       Marvin Mange (Rob Schneider) is an awkward, cl...\n",
       "The Anniversary Party            Sally Nash and Joe Therrian are a Hollywood co...\n",
       "Antitrust                        Working with his three friends at their new so...\n",
       "Atlantis: The Lost Empire        Many centuries ago, a large tidal wave trigger...\n",
       " Baby Boy                        A 20-year-old man named Joseph \"Jody\" Summers ...\n",
       "Bartleby                         The film opens with a brief summary of Herman ...\n",
       "A Beautiful Mind                 In 1947, John Nash (Crowe) arrives at Princeto...\n",
       "Behind Enemy Lines               In the final stages of the Bosnian War in Dece...\n",
       "The Believer                     Daniel Balint is a former Jewish yeshiva stude...\n",
       "Big Bad Love                     Big Bad Love shares its title and characters w...\n",
       "Black Hawk Down                  In 1993, following the ousting of the central ...\n",
       "Black Knight                     Jamal Walker (Martin Lawrence) is an everyday ...\n",
       "Blow                             A young George Jung and his parents Fred and E...\n",
       "Bones                            In 1979, Jimmy Bones (Snoop Dogg) is a numbers...\n",
       "The Brothers                     Jackson Smith (Chestnut), Brian Palmer (Bellam...\n",
       "Bubble Boy                       Born without an immune system, Jimmy Livingsto...\n",
       "Buffalo Soldiers                 It is almost the end of the Cold War in Europe...\n",
       "Bully                            Ali Willis and Lisa Connelly are friends with ...\n",
       "The Business of Strangers        Julie Styron (Channing) is a middle-aged busin...\n",
       " Captain Corelli's Mandolin      Greece's Ionian Islands are invaded by the Ita...\n",
       "The Cat's Meow                   November 15, 1924: Among those boarding the lu...\n",
       "Cats & Dogs                      Mrs. Carolyn Brody (Elizabeth Perkins) and her...\n",
       "The Caveman's Valentine          A former family man and pianist studying at Ju...\n",
       "The Center of the World          A couple checks into a suite in Las Vegas. In ...\n",
       "Corky Romano                     Veterinary technician Corky Romano (Chris Katt...\n",
       "CQ                               In Paris in 1969, young film editor Paul Balla...\n",
       "Crazy/Beautiful                  Nicole Oakley, the out-of-control daughter of ...\n",
       "Crocodile Dundee in Los Angeles  At the beginning of the film, protagonist Mich...\n",
       "Cruel Intentions 2               Troublemaker student Sebastian Valmont (Robin ...\n",
       "The Curse of the Jade Scorpion   In 1940, C.W. Briggs (Woody Allen) is an insur...\n",
       " The Deep End                    Margaret Hall (Swinton) and her family live an...\n",
       "Delivering Milo                  Elizabeth believes she has gone into labor, bu...\n",
       "Den                              The film begins with a bearded man waking up i...\n",
       "Domestic Disturbance             In Southport, Maryland, Susan Morrison (Teri P...\n",
       "Don't Say a Word                 In 1991, a gang of thieves steal a rare $10-mi..."
      ]
     },
     "execution_count": 11,
     "metadata": {},
     "output_type": "execute_result"
    }
   ],
   "source": [
    "finaldata = my_data[[\"Title\", \"Plot\"]]          \n",
    "finaldata = finaldata.set_index('Title')    \n",
    "  \n",
    "finaldata.head(50)"
   ]
  },
  {
   "cell_type": "code",
   "execution_count": null,
   "metadata": {
    "colab": {
     "base_uri": "https://localhost:8080/",
     "height": 237
    },
    "id": "r5dVLJ-NnBZf",
    "outputId": "79b90a2b-9c8d-498f-e5b5-878a2a0a6a41"
   },
   "outputs": [
    {
     "data": {
      "text/html": [
       "\n",
       "  <div id=\"df-ac4b0cc7-5c18-4a6a-84eb-a46006c8b7f9\">\n",
       "    <div class=\"colab-df-container\">\n",
       "      <div>\n",
       "<style scoped>\n",
       "    .dataframe tbody tr th:only-of-type {\n",
       "        vertical-align: middle;\n",
       "    }\n",
       "\n",
       "    .dataframe tbody tr th {\n",
       "        vertical-align: top;\n",
       "    }\n",
       "\n",
       "    .dataframe thead th {\n",
       "        text-align: right;\n",
       "    }\n",
       "</style>\n",
       "<table border=\"1\" class=\"dataframe\">\n",
       "  <thead>\n",
       "    <tr style=\"text-align: right;\">\n",
       "      <th></th>\n",
       "      <th>Plot</th>\n",
       "      <th>new_plot</th>\n",
       "    </tr>\n",
       "    <tr>\n",
       "      <th>Title</th>\n",
       "      <th></th>\n",
       "      <th></th>\n",
       "    </tr>\n",
       "  </thead>\n",
       "  <tbody>\n",
       "    <tr>\n",
       "      <th>15 Minutes</th>\n",
       "      <td>Ex-convicts Emil Slovak (Karel Roden) and Oleg...</td>\n",
       "      <td>exconvicts emil slovak karel roden oleg razgul...</td>\n",
       "    </tr>\n",
       "    <tr>\n",
       "      <th>3000 Miles to Graceland</th>\n",
       "      <td>Outside of Las Vegas, Michael Zane, a recent p...</td>\n",
       "      <td>outside la vega michael zane recent parolee st...</td>\n",
       "    </tr>\n",
       "    <tr>\n",
       "      <th>A.I. Artificial Intelligence</th>\n",
       "      <td>In the late 22nd century, rising sea levels fr...</td>\n",
       "      <td>late 22nd century rising sea level global warm...</td>\n",
       "    </tr>\n",
       "    <tr>\n",
       "      <th>The Affair of the Necklace</th>\n",
       "      <td>Jeanne de Saint-Rémy de Valois, orphaned at an...</td>\n",
       "      <td>jeanne de saintrémy de valois orphaned early a...</td>\n",
       "    </tr>\n",
       "    <tr>\n",
       "      <th>Ali</th>\n",
       "      <td>The film begins with Cassius Clay, Jr. before ...</td>\n",
       "      <td>film begin cassius clay jr championship debut ...</td>\n",
       "    </tr>\n",
       "  </tbody>\n",
       "</table>\n",
       "</div>\n",
       "      <button class=\"colab-df-convert\" onclick=\"convertToInteractive('df-ac4b0cc7-5c18-4a6a-84eb-a46006c8b7f9')\"\n",
       "              title=\"Convert this dataframe to an interactive table.\"\n",
       "              style=\"display:none;\">\n",
       "        \n",
       "  <svg xmlns=\"http://www.w3.org/2000/svg\" height=\"24px\"viewBox=\"0 0 24 24\"\n",
       "       width=\"24px\">\n",
       "    <path d=\"M0 0h24v24H0V0z\" fill=\"none\"/>\n",
       "    <path d=\"M18.56 5.44l.94 2.06.94-2.06 2.06-.94-2.06-.94-.94-2.06-.94 2.06-2.06.94zm-11 1L8.5 8.5l.94-2.06 2.06-.94-2.06-.94L8.5 2.5l-.94 2.06-2.06.94zm10 10l.94 2.06.94-2.06 2.06-.94-2.06-.94-.94-2.06-.94 2.06-2.06.94z\"/><path d=\"M17.41 7.96l-1.37-1.37c-.4-.4-.92-.59-1.43-.59-.52 0-1.04.2-1.43.59L10.3 9.45l-7.72 7.72c-.78.78-.78 2.05 0 2.83L4 21.41c.39.39.9.59 1.41.59.51 0 1.02-.2 1.41-.59l7.78-7.78 2.81-2.81c.8-.78.8-2.07 0-2.86zM5.41 20L4 18.59l7.72-7.72 1.47 1.35L5.41 20z\"/>\n",
       "  </svg>\n",
       "      </button>\n",
       "      \n",
       "  <style>\n",
       "    .colab-df-container {\n",
       "      display:flex;\n",
       "      flex-wrap:wrap;\n",
       "      gap: 12px;\n",
       "    }\n",
       "\n",
       "    .colab-df-convert {\n",
       "      background-color: #E8F0FE;\n",
       "      border: none;\n",
       "      border-radius: 50%;\n",
       "      cursor: pointer;\n",
       "      display: none;\n",
       "      fill: #1967D2;\n",
       "      height: 32px;\n",
       "      padding: 0 0 0 0;\n",
       "      width: 32px;\n",
       "    }\n",
       "\n",
       "    .colab-df-convert:hover {\n",
       "      background-color: #E2EBFA;\n",
       "      box-shadow: 0px 1px 2px rgba(60, 64, 67, 0.3), 0px 1px 3px 1px rgba(60, 64, 67, 0.15);\n",
       "      fill: #174EA6;\n",
       "    }\n",
       "\n",
       "    [theme=dark] .colab-df-convert {\n",
       "      background-color: #3B4455;\n",
       "      fill: #D2E3FC;\n",
       "    }\n",
       "\n",
       "    [theme=dark] .colab-df-convert:hover {\n",
       "      background-color: #434B5C;\n",
       "      box-shadow: 0px 1px 3px 1px rgba(0, 0, 0, 0.15);\n",
       "      filter: drop-shadow(0px 1px 2px rgba(0, 0, 0, 0.3));\n",
       "      fill: #FFFFFF;\n",
       "    }\n",
       "  </style>\n",
       "\n",
       "      <script>\n",
       "        const buttonEl =\n",
       "          document.querySelector('#df-ac4b0cc7-5c18-4a6a-84eb-a46006c8b7f9 button.colab-df-convert');\n",
       "        buttonEl.style.display =\n",
       "          google.colab.kernel.accessAllowed ? 'block' : 'none';\n",
       "\n",
       "        async function convertToInteractive(key) {\n",
       "          const element = document.querySelector('#df-ac4b0cc7-5c18-4a6a-84eb-a46006c8b7f9');\n",
       "          const dataTable =\n",
       "            await google.colab.kernel.invokeFunction('convertToInteractive',\n",
       "                                                     [key], {});\n",
       "          if (!dataTable) return;\n",
       "\n",
       "          const docLinkHtml = 'Like what you see? Visit the ' +\n",
       "            '<a target=\"_blank\" href=https://colab.research.google.com/notebooks/data_table.ipynb>data table notebook</a>'\n",
       "            + ' to learn more about interactive tables.';\n",
       "          element.innerHTML = '';\n",
       "          dataTable['output_type'] = 'display_data';\n",
       "          await google.colab.output.renderOutput(dataTable, element);\n",
       "          const docLink = document.createElement('div');\n",
       "          docLink.innerHTML = docLinkHtml;\n",
       "          element.appendChild(docLink);\n",
       "        }\n",
       "      </script>\n",
       "    </div>\n",
       "  </div>\n",
       "  "
      ],
      "text/plain": [
       "                                                                            Plot  \\\n",
       "Title                                                                              \n",
       " 15 Minutes                    Ex-convicts Emil Slovak (Karel Roden) and Oleg...   \n",
       "3000 Miles to Graceland        Outside of Las Vegas, Michael Zane, a recent p...   \n",
       " A.I. Artificial Intelligence  In the late 22nd century, rising sea levels fr...   \n",
       "The Affair of the Necklace     Jeanne de Saint-Rémy de Valois, orphaned at an...   \n",
       "Ali                            The film begins with Cassius Clay, Jr. before ...   \n",
       "\n",
       "                                                                        new_plot  \n",
       "Title                                                                             \n",
       " 15 Minutes                    exconvicts emil slovak karel roden oleg razgul...  \n",
       "3000 Miles to Graceland        outside la vega michael zane recent parolee st...  \n",
       " A.I. Artificial Intelligence  late 22nd century rising sea level global warm...  \n",
       "The Affair of the Necklace     jeanne de saintrémy de valois orphaned early a...  \n",
       "Ali                            film begin cassius clay jr championship debut ...  "
      ]
     },
     "execution_count": 15,
     "metadata": {},
     "output_type": "execute_result"
    }
   ],
   "source": [
    "lemmatizer = WordNetLemmatizer() \n",
    "\n",
    "def preprocess_sentences(text):\n",
    "    text = text.lower()\n",
    "    text = text.translate(str.maketrans('', '', string.punctuation))\n",
    "    words = nltk.word_tokenize(text)\n",
    "    my_sent=[lemmatizer.lemmatize(word) for word in words if word not in stopwords.words('english')]\n",
    "    finalsent = ' '.join(my_sent)\n",
    "\n",
    "    finalsent = finalsent.replace(\"n't\", \" not\")\n",
    "    finalsent = finalsent.replace(\"'m\", \" am\")\n",
    "    finalsent = finalsent.replace(\"'s\", \" is\")\n",
    "    finalsent = finalsent.replace(\"'re\", \" are\")\n",
    "    finalsent = finalsent.replace(\"'ll\", \" will\")\n",
    "    finalsent = finalsent.replace(\"'ve\", \" have\")\n",
    "    finalsent = finalsent.replace(\"'d\", \" would\")\n",
    "    \n",
    "    return finalsent\n",
    "\n",
    "finaldata[\"new_plot\"]= finaldata[\"Plot\"].apply(preprocess_sentences)\n",
    "finaldata.head()"
   ]
  },
  {
   "cell_type": "code",
   "execution_count": null,
   "metadata": {
    "id": "ddQlMqR3Oq38"
   },
   "outputs": [],
   "source": [
    "finaldata.to_pickle(\"processed_data.pkl\")"
   ]
  },
  {
   "cell_type": "code",
   "execution_count": null,
   "metadata": {
    "id": "mW2Wv7RZnr4Z"
   },
   "outputs": [],
   "source": [
    "\n",
    "tfidf = TfidfVectorizer()\n",
    "tfidf_movieid = tfidf.fit_transform((finaldata[\"new_plot\"]))\n",
    "\n",
    "# Recherche de similitude cosinus entre les vecteurs\n",
    "from sklearn.metrics.pairwise import cosine_similarity\n",
    "similarity = cosine_similarity(tfidf_movieid, tfidf_movieid)"
   ]
  },
  {
   "cell_type": "code",
   "execution_count": null,
   "metadata": {
    "id": "bqbKJCDPoQLj"
   },
   "outputs": [],
   "source": [
    "indices = pd.Series(finaldata.index)\n",
    "def recommendations(title, cosine_sim = similarity):\n",
    "  try:\n",
    "    index = indices[indices == title].index[0]\n",
    "    print(index)\n",
    "    similarity_scores = pd.Series(cosine_sim[index]).sort_values(ascending = False)\n",
    "    print(similarity_scores)\n",
    "    top_10_movies = list(similarity_scores.iloc[1:11].index)\n",
    "    print(top_10_movies)\n",
    "    recommended_movies = [list(finaldata.index)[i] for i in top_10_movies]\n",
    "    return recommended_movies\n",
    "  except:\n",
    "    print(\"No movie name found\")"
   ]
  },
  {
   "cell_type": "code",
   "execution_count": null,
   "metadata": {
    "colab": {
     "base_uri": "https://localhost:8080/"
    },
    "id": "_XWbSnXboTaK",
    "outputId": "853b4745-97ae-4bf5-ab5e-df5d80724e79"
   },
   "outputs": [
    {
     "name": "stdout",
     "output_type": "stream",
     "text": [
      "281\n",
      "281     1.000000\n",
      "80      0.562548\n",
      "1866    0.494711\n",
      "2258    0.490071\n",
      "2063    0.478480\n",
      "          ...   \n",
      "2891    0.000000\n",
      "1394    0.000000\n",
      "1393    0.000000\n",
      "192     0.000000\n",
      "3197    0.000000\n",
      "Length: 3595, dtype: float64\n",
      "[80, 1866, 2258, 2063, 1443, 688, 885, 1490, 917, 2502]\n"
     ]
    },
    {
     "data": {
      "text/plain": [
       "[\"Harry Potter and the Sorcerer's Stone\",\n",
       " 'Harry Potter and the Half-Blood Prince',\n",
       " 'Harry Potter and the Deathly Hallows: Part 2',\n",
       " 'Harry Potter and the Deathly Hallows: Part 1',\n",
       " 'Harry Potter and the Order of the Phoenix',\n",
       " 'Harry Potter and the Prisoner of Azkaban',\n",
       " 'Harry Potter and the Goblet of Fire',\n",
       " 'Married Life',\n",
       " 'Kiss Kiss Bang Bang',\n",
       " 'Gambit']"
      ]
     },
     "execution_count": 18,
     "metadata": {},
     "output_type": "execute_result"
    }
   ],
   "source": [
    "recommendations(\"Harry Potter and the Chamber of Secrets\")"
   ]
  },
  {
   "cell_type": "code",
   "execution_count": null,
   "metadata": {
    "colab": {
     "base_uri": "https://localhost:8080/"
    },
    "id": "xHMwXaEjoWbs",
    "outputId": "2a7fd418-f72f-48a7-da56-258331339017"
   },
   "outputs": [
    {
     "name": "stdout",
     "output_type": "stream",
     "text": [
      "369\n",
      "369     1.000000\n",
      "1560    0.582712\n",
      "3004    0.508927\n",
      "771     0.461044\n",
      "2387    0.425651\n",
      "          ...   \n",
      "3445    0.000000\n",
      "1208    0.000000\n",
      "2841    0.000000\n",
      "1099    0.000000\n",
      "192     0.000000\n",
      "Length: 3595, dtype: float64\n",
      "[1560, 3004, 771, 2387, 117, 2558, 2233, 345, 434, 1655]\n"
     ]
    },
    {
     "data": {
      "text/plain": [
       "['Spider-Man 3',\n",
       " 'The Amazing Spider-Man 2',\n",
       " 'Spider-Man 2',\n",
       " 'Amazing Spider-Man, TheThe Amazing Spider-Man',\n",
       " ' The Majestic',\n",
       " 'ParaNorman',\n",
       " 'Dream House',\n",
       " 'Return to Never Land',\n",
       " 'Bringing Down the House',\n",
       " 'Forgetting Sarah Marshall']"
      ]
     },
     "execution_count": 16,
     "metadata": {},
     "output_type": "execute_result"
    }
   ],
   "source": [
    "recommendations(\"Spider-Man\")"
   ]
  },
  {
   "cell_type": "code",
   "execution_count": null,
   "metadata": {
    "colab": {
     "base_uri": "https://localhost:8080/"
    },
    "id": "TYzYExNjoZiy",
    "outputId": "bf662bc5-d49c-47dc-8f70-91de46555c62"
   },
   "outputs": [
    {
     "name": "stdout",
     "output_type": "stream",
     "text": [
      "292\n",
      "292     1.000000\n",
      "1177    0.632123\n",
      "1881    0.539251\n",
      "2520    0.348114\n",
      "3331    0.289557\n",
      "          ...   \n",
      "192     0.000000\n",
      "1136    0.000000\n",
      "2407    0.000000\n",
      "2741    0.000000\n",
      "1099    0.000000\n",
      "Length: 3595, dtype: float64\n",
      "[1177, 1881, 2520, 3331, 1276, 1112, 1049, 1137, 2990, 2525]\n"
     ]
    },
    {
     "data": {
      "text/plain": [
       "['Ice Age: The Meltdown',\n",
       " 'Ice Age: Dawn of the Dinosaurs',\n",
       " 'Ice Age: Continental Drift',\n",
       " 'Ice Age: Collision Course',\n",
       " 'Scoop',\n",
       " ' East Side Story',\n",
       " 'Bella',\n",
       " 'Flushed Away',\n",
       " 'In the Blood',\n",
       " 'Joyful Noise']"
      ]
     },
     "execution_count": 17,
     "metadata": {},
     "output_type": "execute_result"
    }
   ],
   "source": [
    "recommendations(\"Ice Age\")"
   ]
  },
  {
   "cell_type": "code",
   "execution_count": null,
   "metadata": {
    "colab": {
     "base_uri": "https://localhost:8080/"
    },
    "id": "4Mjuc-kgpMJq",
    "outputId": "fdd94890-c5f3-4558-c4e5-3fbc9fbd402b"
   },
   "outputs": [
    {
     "name": "stdout",
     "output_type": "stream",
     "text": [
      "5\n",
      "5       1.000000\n",
      "1786    0.374353\n",
      "3395    0.365680\n",
      "511     0.337105\n",
      "2008    0.327905\n",
      "          ...   \n",
      "2741    0.000000\n",
      "2346    0.000000\n",
      "1210    0.000000\n",
      "3445    0.000000\n",
      "1035    0.000000\n",
      "Length: 3595, dtype: float64\n",
      "[1786, 3395, 511, 2008, 540, 889, 1694, 3347, 445, 2491]\n"
     ]
    },
    {
     "data": {
      "text/plain": [
       "[' (500) Days of Summer',\n",
       " 'iBoy',\n",
       " 'Just Married',\n",
       " 'The Book of Eli',\n",
       " \"My Boss's Daughter\",\n",
       " 'A History of Violence',\n",
       " 'Made of Honor',\n",
       " 'The Light Between Oceans',\n",
       " 'Cheaper by the Dozen',\n",
       " 'Five-Year Engagement, TheThe Five-Year Engagement']"
      ]
     },
     "execution_count": 19,
     "metadata": {},
     "output_type": "execute_result"
    }
   ],
   "source": [
    "recommendations(\"All Over the Guy\")"
   ]
  },
  {
   "cell_type": "code",
   "execution_count": null,
   "metadata": {
    "id": "lmikKmHcgbxT"
   },
   "outputs": [],
   "source": []
  }
 ],
 "metadata": {
  "accelerator": "TPU",
  "colab": {
   "provenance": []
  },
  "gpuClass": "standard",
  "kernelspec": {
   "display_name": "Python 3 (ipykernel)",
   "language": "python",
   "name": "python3"
  },
  "language_info": {
   "codemirror_mode": {
    "name": "ipython",
    "version": 3
   },
   "file_extension": ".py",
   "mimetype": "text/x-python",
   "name": "python",
   "nbconvert_exporter": "python",
   "pygments_lexer": "ipython3",
   "version": "3.9.12"
  }
 },
 "nbformat": 4,
 "nbformat_minor": 1
}
